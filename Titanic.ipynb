{
 "metadata": {
  "name": "",
  "signature": "sha256:b1552318e82bd1e08abd036a391f9333ffe2a5ef117d344aa1a30d16ea4c85d9"
 },
 "nbformat": 3,
 "nbformat_minor": 0,
 "worksheets": [
  {
   "cells": [
    {
     "cell_type": "heading",
     "level": 1,
     "metadata": {},
     "source": [
      "Titanic survivor analysis"
     ]
    },
    {
     "cell_type": "markdown",
     "metadata": {},
     "source": [
      "This is my take on Kaggle's challenge [Titanic - Machine Learning From Disaster](https://www.kaggle.com/c/titanic-gettingStarted). \n",
      "\n",
      "##Introduction - what have we got here?\n",
      "\n",
      "The data we have lists all the passengers of the Titanic, with various details about them (sex, age, passenger class, etc.). For a complete description of what the columns mean, see the [Kaggle challenge data page](https://www.kaggle.com/c/titanic-gettingStarted/data).\n",
      "\n",
      "We have a training set of data (containing 891 records), and a test set of data. The training set includes information about whether the passengers survived or not, and our goal is to build a model based on this data to predict who survived from the test set.\n",
      "\n",
      "Before we go any further, let's load the data to get a basic feel for it."
     ]
    },
    {
     "cell_type": "code",
     "collapsed": false,
     "input": [
      "%matplotlib inline\n",
      "\n",
      "import pandas as pd\n",
      "import numpy as np\n",
      "import seaborn as sn # prettier graphs\n",
      "import matplotlib as plt\n",
      "from pandas import Series, DataFrame\n",
      "\n",
      "all_people = pd.read_csv('train.csv', index_col='PassengerId')\n",
      "# Split people into two groups, for training our models, and for cross-validation\n",
      "np.random.seed(1)\n",
      "shuffled_rows = np.random.permutation(all_people.index.values)\n",
      "train_rows = shuffled_rows[:700]\n",
      "cross_validation_rows = shuffled_rows[700:]\n",
      "people = all_people.ix[train_rows]\n",
      "cv_people = all_people.ix[cross_validation_rows]\n",
      "people.head()"
     ],
     "language": "python",
     "metadata": {},
     "outputs": [
      {
       "html": [
        "<div style=\"max-height:1000px;max-width:1500px;overflow:auto;\">\n",
        "<table border=\"1\" class=\"dataframe\">\n",
        "  <thead>\n",
        "    <tr style=\"text-align: right;\">\n",
        "      <th></th>\n",
        "      <th>Survived</th>\n",
        "      <th>Pclass</th>\n",
        "      <th>Name</th>\n",
        "      <th>Sex</th>\n",
        "      <th>Age</th>\n",
        "      <th>SibSp</th>\n",
        "      <th>Parch</th>\n",
        "      <th>Ticket</th>\n",
        "      <th>Fare</th>\n",
        "      <th>Cabin</th>\n",
        "      <th>Embarked</th>\n",
        "    </tr>\n",
        "  </thead>\n",
        "  <tbody>\n",
        "    <tr>\n",
        "      <th>863</th>\n",
        "      <td> 1</td>\n",
        "      <td> 1</td>\n",
        "      <td> Swift, Mrs. Frederick Joel (Margaret Welles Ba...</td>\n",
        "      <td> female</td>\n",
        "      <td> 48</td>\n",
        "      <td> 0</td>\n",
        "      <td> 0</td>\n",
        "      <td>        17466</td>\n",
        "      <td> 25.9292</td>\n",
        "      <td> D17</td>\n",
        "      <td> S</td>\n",
        "    </tr>\n",
        "    <tr>\n",
        "      <th>224</th>\n",
        "      <td> 0</td>\n",
        "      <td> 3</td>\n",
        "      <td>                              Nenkoff, Mr. Christo</td>\n",
        "      <td>   male</td>\n",
        "      <td>NaN</td>\n",
        "      <td> 0</td>\n",
        "      <td> 0</td>\n",
        "      <td>       349234</td>\n",
        "      <td>  7.8958</td>\n",
        "      <td> NaN</td>\n",
        "      <td> S</td>\n",
        "    </tr>\n",
        "    <tr>\n",
        "      <th>85 </th>\n",
        "      <td> 1</td>\n",
        "      <td> 2</td>\n",
        "      <td>                               Ilett, Miss. Bertha</td>\n",
        "      <td> female</td>\n",
        "      <td> 17</td>\n",
        "      <td> 0</td>\n",
        "      <td> 0</td>\n",
        "      <td>   SO/C 14885</td>\n",
        "      <td> 10.5000</td>\n",
        "      <td> NaN</td>\n",
        "      <td> S</td>\n",
        "    </tr>\n",
        "    <tr>\n",
        "      <th>681</th>\n",
        "      <td> 0</td>\n",
        "      <td> 3</td>\n",
        "      <td>                               Peters, Miss. Katie</td>\n",
        "      <td> female</td>\n",
        "      <td>NaN</td>\n",
        "      <td> 0</td>\n",
        "      <td> 0</td>\n",
        "      <td>       330935</td>\n",
        "      <td>  8.1375</td>\n",
        "      <td> NaN</td>\n",
        "      <td> Q</td>\n",
        "    </tr>\n",
        "    <tr>\n",
        "      <th>536</th>\n",
        "      <td> 1</td>\n",
        "      <td> 2</td>\n",
        "      <td>                            Hart, Miss. Eva Miriam</td>\n",
        "      <td> female</td>\n",
        "      <td>  7</td>\n",
        "      <td> 0</td>\n",
        "      <td> 2</td>\n",
        "      <td> F.C.C. 13529</td>\n",
        "      <td> 26.2500</td>\n",
        "      <td> NaN</td>\n",
        "      <td> S</td>\n",
        "    </tr>\n",
        "  </tbody>\n",
        "</table>\n",
        "</div>"
       ],
       "metadata": {},
       "output_type": "pyout",
       "prompt_number": 2,
       "text": [
        "     Survived  Pclass                                               Name  \\\n",
        "863         1       1  Swift, Mrs. Frederick Joel (Margaret Welles Ba...   \n",
        "224         0       3                               Nenkoff, Mr. Christo   \n",
        "85          1       2                                Ilett, Miss. Bertha   \n",
        "681         0       3                                Peters, Miss. Katie   \n",
        "536         1       2                             Hart, Miss. Eva Miriam   \n",
        "\n",
        "        Sex  Age  SibSp  Parch        Ticket     Fare Cabin Embarked  \n",
        "863  female   48      0      0         17466  25.9292   D17        S  \n",
        "224    male  NaN      0      0        349234   7.8958   NaN        S  \n",
        "85   female   17      0      0    SO/C 14885  10.5000   NaN        S  \n",
        "681  female  NaN      0      0        330935   8.1375   NaN        Q  \n",
        "536  female    7      0      2  F.C.C. 13529  26.2500   NaN        S  "
       ]
      }
     ],
     "prompt_number": 2
    },
    {
     "cell_type": "markdown",
     "metadata": {},
     "source": [
      "Alright! Let's start by tackling the most obvious possible predictor first.\n",
      "\n",
      "#Survival ratio by sex\n",
      "\n",
      "Let's see how survival differs by sex."
     ]
    },
    {
     "cell_type": "code",
     "collapsed": false,
     "input": [
      "gender_survival = people.groupby(['Sex', 'Survived']).size()\n",
      "gender_survival"
     ],
     "language": "python",
     "metadata": {},
     "outputs": [
      {
       "metadata": {},
       "output_type": "pyout",
       "prompt_number": 3,
       "text": [
        "Sex     Survived\n",
        "female  0            64\n",
        "        1           190\n",
        "male    0           357\n",
        "        1            89\n",
        "dtype: int64"
       ]
      }
     ],
     "prompt_number": 3
    },
    {
     "cell_type": "markdown",
     "metadata": {},
     "source": [
      "From the numbers, we can see that females have a much better chance of survival than males. Let's visualize this data with a bar chart."
     ]
    },
    {
     "cell_type": "code",
     "collapsed": false,
     "input": [
      "# Set up a pleasing colour palette for the graphs\n",
      "current_palette = sn.color_palette('muted')\n",
      "new_order = [0, 2, 1, 4, 3, 5]\n",
      "new_palette = [current_palette[i] for i in new_order]\n",
      "sn.set_palette(new_palette)\n",
      "\n",
      "gender_survived = gender_survival.groupby(level='Sex').last()\n",
      "gender_died = gender_survival.groupby(level='Sex').first()\n",
      "gender_survival_numbers = pd.concat([gender_survived, gender_died], axis=1, keys=['survived','died'])\n",
      "gender_survival_numbers.plot(kind='bar', stacked=True)"
     ],
     "language": "python",
     "metadata": {},
     "outputs": [
      {
       "metadata": {},
       "output_type": "pyout",
       "prompt_number": 4,
       "text": [
        "<matplotlib.axes.AxesSubplot at 0x7f7bde323710>"
       ]
      },
      {
       "metadata": {},
       "output_type": "display_data",
       "png": "[encoded data removed]",
       "text": [
        "<matplotlib.figure.Figure at 0x7f7bde303ac8>"
       ]
      }
     ],
     "prompt_number": 4
    },
    {
     "cell_type": "markdown",
     "metadata": {},
     "source": [
      "Or, normalized:"
     ]
    },
    {
     "cell_type": "code",
     "collapsed": false,
     "input": [
      "gender_survival_numbers.div(gender_survival_numbers.sum(axis=1), axis=0).plot(kind='bar', stacked=True)"
     ],
     "language": "python",
     "metadata": {},
     "outputs": [
      {
       "metadata": {},
       "output_type": "pyout",
       "prompt_number": 5,
       "text": [
        "<matplotlib.axes.AxesSubplot at 0x7f7bde25bdd8>"
       ]
      },
      {
       "metadata": {},
       "output_type": "display_data",
       "png": "[encoded data removed]",
       "text": [
        "<matplotlib.figure.Figure at 0x7f7c08697a58>"
       ]
      }
     ],
     "prompt_number": 5
    },
    {
     "cell_type": "markdown",
     "metadata": {},
     "source": [
      "Born the wrong gender? Tough luck, you chance of survival just dropped threefold.\n",
      "\n",
      "## Survival by sex and socioeconomic status\n",
      "\n",
      "Since we're already looking at sex... how about we combine it with socioeconomic status? (A good indicator of which is which class the passengers traveled in - 1st, 2nd, or 3rd).\n",
      "\n",
      "We already know that women survived more than men did, and we can probably guess that rich people survived more than poor people. But the interesting question here is - which effect is greater?\n",
      "\n",
      "Before we get to the data, I'd like you to make a guess. Let's imagine that you were aboard the Titanic, and you were a 3rd class male. Then, before the disaster struck, a magical fairy appeared and offered to either change your sex to a woman, or change your passenger class to 1st class.\n",
      "\n",
      "- **Which would give you a better chance of survival - being a 3rd class woman, or being a 1st class man?**\n",
      "\n",
      "Take a few seconds to make a guess before reading on."
     ]
    },
    {
     "cell_type": "code",
     "collapsed": false,
     "input": [
      "gender_class_people = people.groupby(['Sex', 'Pclass', 'Survived']).size()\n",
      "print(gender_class_people)\n",
      "survivors = gender_class_people.groupby(level=('Sex', 'Pclass')).last()\n",
      "dead = gender_class_people.groupby(level=('Sex', 'Pclass')).first()\n",
      "gender_class_survival = pd.concat([survivors, dead], axis=1)\n",
      "gender_class_survival.plot(kind='bar', stacked=True)"
     ],
     "language": "python",
     "metadata": {},
     "outputs": [
      {
       "output_type": "stream",
       "stream": "stdout",
       "text": [
        "Sex     Pclass  Survived\n",
        "female  1       0             2\n",
        "                1            74\n",
        "        2       0             3\n",
        "                1            57\n",
        "        3       0            59\n",
        "                1            59\n",
        "male    1       0            59\n",
        "                1            36\n",
        "        2       0            67\n",
        "                1            13\n",
        "        3       0           231\n",
        "                1            40\n",
        "dtype: int64\n"
       ]
      },
      {
       "metadata": {},
       "output_type": "pyout",
       "prompt_number": 6,
       "text": [
        "<matplotlib.axes.AxesSubplot at 0x7f7bde26e978>"
       ]
      },
      {
       "metadata": {},
       "output_type": "display_data",
       "png": "[encoded data removed]",
       "text": [
        "<matplotlib.figure.Figure at 0x7f7bde1dcb00>"
       ]
      }
     ],
     "prompt_number": 6
    },
    {
     "cell_type": "code",
     "collapsed": false,
     "input": [
      "gender_class_survival.div(gender_class_survival.sum(axis=1), axis=0).plot(kind='bar', stacked=True)"
     ],
     "language": "python",
     "metadata": {},
     "outputs": [
      {
       "metadata": {},
       "output_type": "pyout",
       "prompt_number": 7,
       "text": [
        "<matplotlib.axes.AxesSubplot at 0x7f7bde1d3ba8>"
       ]
      },
      {
       "metadata": {},
       "output_type": "display_data",
       "png": "[encoded data removed]",
       "text": [
        "<matplotlib.figure.Figure at 0x7f7bde1df6a0>"
       ]
      }
     ],
     "prompt_number": 7
    },
    {
     "cell_type": "markdown",
     "metadata": {},
     "source": [
      "Aaaand... it turns out poor women survived more than rich men did. Seems like the Titanic was full of real gentlemen.\n",
      "\n",
      "(Which is actually highly atypical. In my research, I've come across [this research paper](http://uu.diva-portal.org/smash/get/diva2:514872/FULLTEXT01.pdf) [PDF], which notes that in the vast majority of shipwrecks, it's the fit, young men that survive the most. In the case of Titanic, the captain had to literally have the crew point guns at the passengers to force the men to let the women board the lifeboats first.)\n",
      "\n",
      "#Survival by age\n",
      "\n",
      "But gender and class are not the only data we have available. How about we look at the survival chances by age?\n",
      "\n",
      "The first thing to note is, we actually have three categories of ages for Titanic's passengers in our dataset:\n",
      "- Known age (recorded as a whole number, or as a float between 0 and 1)\n",
      "- Estimated age (recorded as a number ending in .5)\n",
      "- Unknown age (empty record)\n",
      "\n",
      "So before we do any fancy number-wrangling on the specific passenger ages, let's see how the survival rates differ for each of those three broader age categories."
     ]
    },
    {
     "cell_type": "code",
     "collapsed": false,
     "input": [
      "def get_age_class(age):\n",
      "    if np.isnan(age):\n",
      "        return \"Unknown\"\n",
      "    elif age.is_integer():\n",
      "        return \"Known\"\n",
      "    elif age < 1:\n",
      "        return \"Known\"\n",
      "    else:\n",
      "        return \"Estimated\"\n",
      "        \n",
      "people['Age Class'] = people['Age'].map(get_age_class)\n",
      "\n",
      "age_class_people = people.groupby(['Age Class', 'Survived']).size()\n",
      "print(age_class_people)\n",
      "survivors = age_class_people.groupby(level=('Age Class')).last()\n",
      "dead = age_class_people.groupby(level=('Age Class')).first()\n",
      "age_class_survival = pd.concat([survivors, dead], axis=1, keys=['survived', 'died'])\n",
      "age_class_survival.plot(kind='bar', stacked=True)"
     ],
     "language": "python",
     "metadata": {},
     "outputs": [
      {
       "output_type": "stream",
       "stream": "stdout",
       "text": [
        "Age Class  Survived\n",
        "Estimated  0            13\n",
        "           1             1\n",
        "Known      0           312\n",
        "           1           232\n",
        "Unknown    0            96\n",
        "           1            46\n",
        "dtype: int64\n"
       ]
      },
      {
       "metadata": {},
       "output_type": "pyout",
       "prompt_number": 8,
       "text": [
        "<matplotlib.axes.AxesSubplot at 0x7f7bde13a0b8>"
       ]
      },
      {
       "metadata": {},
       "output_type": "display_data",
       "png": "[encoded data removed]",
       "text": [
        "<matplotlib.figure.Figure at 0x7f7bde057320>"
       ]
      }
     ],
     "prompt_number": 8
    },
    {
     "cell_type": "markdown",
     "metadata": {},
     "source": [
      "The results are a bit hard to see because of how few passengers have an etimated age. Let's normalize them:"
     ]
    },
    {
     "cell_type": "code",
     "collapsed": false,
     "input": [
      "age_class_survival.div(age_class_survival.sum(axis=1), axis=0).plot(kind='bar', stacked=True)"
     ],
     "language": "python",
     "metadata": {},
     "outputs": [
      {
       "metadata": {},
       "output_type": "pyout",
       "prompt_number": 9,
       "text": [
        "<matplotlib.axes.AxesSubplot at 0x7f7bddfaf2b0>"
       ]
      },
      {
       "metadata": {},
       "output_type": "display_data",
       "png": "[encoded data removed]",
       "text": [
        "<matplotlib.figure.Figure at 0x7f7bde02f5f8>"
       ]
      }
     ],
     "prompt_number": 9
    },
    {
     "cell_type": "markdown",
     "metadata": {},
     "source": [
      "This shows that although your age being unknown does make you less likely to survive, copared to your age being known, your age being estimated gives you a FAR worse chance of survival, a whopping 13:1 against.\n",
      "\n",
      "Now let's look at survival based on actual age, rather than the known/unknown/estimated age categories above.\n",
      "\n",
      "To avoid mixing the different categories and muddling our results, let's first only look at the \"known age\" category."
     ]
    },
    {
     "cell_type": "code",
     "collapsed": false,
     "input": [
      "import statsmodels.api as sm\n",
      "def fit_line(x, y):\n",
      "    \"\"\"Return slope, intercept of best fit line.\"\"\"\n",
      "    X = sm.add_constant(x)\n",
      "    model = sm.OLS(y, X, missing='drop') # ignores entires where x or y is NaN\n",
      "    fit = model.fit()\n",
      "    return fit.params[1], fit.params[0] # could also return stderr in each via fit.bse\n",
      "\n",
      "people_with_known_age = people.ix[people['Age Class'] == 'Known']\n",
      "plot = people_with_known_age[['Age', 'Survived']].plot(kind='scatter', x='Age', y='Survived')\n",
      "\n",
      "x = people_with_known_age['Age']\n",
      "y = people_with_known_age['Survived']\n",
      "m, b = fit_line(x, y)\n",
      "N = 100 # could be just 2 if you are only drawing a straight line...\n",
      "points = np.linspace(x.min(), x.max(), N)\n",
      "plot.plot(points, m*points + b)"
     ],
     "language": "python",
     "metadata": {},
     "outputs": [
      {
       "metadata": {},
       "output_type": "pyout",
       "prompt_number": 10,
       "text": [
        "[<matplotlib.lines.Line2D at 0x7f7bddf31ac8>]"
       ]
      },
      {
       "metadata": {},
       "output_type": "display_data",
       "png": "[encoded data removed]",
       "text": [
        "<matplotlib.figure.Figure at 0x7f7bde080f28>"
       ]
      }
     ],
     "prompt_number": 10
    },
    {
     "cell_type": "markdown",
     "metadata": {},
     "source": [
      "I've added a line of best fit to the data. Let's just say that... your age is not that significant. It's roughly a half-half toss-up for people of all ages.\n",
      "\n",
      "But that's enough of digging at the data manually. Before we spend all day picking and choosing things that seem interesting, but end up missing other imortant factors we didn't get around to investigating... let's use some machine learning to figure out the most significant features!\n",
      "\n",
      "##Machine learning - what are the most important features for deciding the Titanic's passengers' survival?\n",
      "\n",
      "We're going to tackle this problem as follows - we'll use the LinearSVC estimator from scikit-learn to train a SVM (Support Vector Machine) to predict survival rates based on all the data we have. Then we're going to look at the weights the SVM ends up giving to different features of our dataset, to see which ones are the most significant.\n",
      "\n",
      "First, we'll need to preprocess the categorical data to put it into a form that scikit-learn can work with. We'll do this by using pandas' get_dummies() function, which produces several columns with a one-hot encoding.\n",
      "\n",
      "Quick example here based on our Age Class data:"
     ]
    },
    {
     "cell_type": "code",
     "collapsed": false,
     "input": [
      "ac_dummies = pd.get_dummies(people['Age Class'], prefix='age')\n",
      "# features and label\n",
      "ac_dummies.head()"
     ],
     "language": "python",
     "metadata": {},
     "outputs": [
      {
       "html": [
        "<div style=\"max-height:1000px;max-width:1500px;overflow:auto;\">\n",
        "<table border=\"1\" class=\"dataframe\">\n",
        "  <thead>\n",
        "    <tr style=\"text-align: right;\">\n",
        "      <th></th>\n",
        "      <th>age_Estimated</th>\n",
        "      <th>age_Known</th>\n",
        "      <th>age_Unknown</th>\n",
        "    </tr>\n",
        "  </thead>\n",
        "  <tbody>\n",
        "    <tr>\n",
        "      <th>863</th>\n",
        "      <td> 0</td>\n",
        "      <td> 1</td>\n",
        "      <td> 0</td>\n",
        "    </tr>\n",
        "    <tr>\n",
        "      <th>224</th>\n",
        "      <td> 0</td>\n",
        "      <td> 0</td>\n",
        "      <td> 1</td>\n",
        "    </tr>\n",
        "    <tr>\n",
        "      <th>85 </th>\n",
        "      <td> 0</td>\n",
        "      <td> 1</td>\n",
        "      <td> 0</td>\n",
        "    </tr>\n",
        "    <tr>\n",
        "      <th>681</th>\n",
        "      <td> 0</td>\n",
        "      <td> 0</td>\n",
        "      <td> 1</td>\n",
        "    </tr>\n",
        "    <tr>\n",
        "      <th>536</th>\n",
        "      <td> 0</td>\n",
        "      <td> 1</td>\n",
        "      <td> 0</td>\n",
        "    </tr>\n",
        "  </tbody>\n",
        "</table>\n",
        "</div>"
       ],
       "metadata": {},
       "output_type": "pyout",
       "prompt_number": 22,
       "text": [
        "     age_Estimated  age_Known  age_Unknown\n",
        "863              0          1            0\n",
        "224              0          0            1\n",
        "85               0          1            0\n",
        "681              0          0            1\n",
        "536              0          1            0"
       ]
      }
     ],
     "prompt_number": 22
    },
    {
     "cell_type": "markdown",
     "metadata": {},
     "source": [
      "Then we can train an SVM on this data."
     ]
    },
    {
     "cell_type": "code",
     "collapsed": false,
     "input": [
      "from sklearn import svm\n",
      "X = ac_dummies\n",
      "y = people['Survived']\n",
      "clf = svm.LinearSVC()\n",
      "clf.fit(X, y) "
     ],
     "language": "python",
     "metadata": {},
     "outputs": [
      {
       "metadata": {},
       "output_type": "pyout",
       "prompt_number": 12,
       "text": [
        "LinearSVC(C=1.0, class_weight=None, dual=True, fit_intercept=True,\n",
        "     intercept_scaling=1, loss='l2', max_iter=1000, multi_class='ovr',\n",
        "     penalty='l2', random_state=None, tol=0.0001, verbose=0)"
       ]
      }
     ],
     "prompt_number": 12
    },
    {
     "cell_type": "markdown",
     "metadata": {},
     "source": [
      "And a quick check, let's see what this model's prediction is for a member of each of the possible categories."
     ]
    },
    {
     "cell_type": "code",
     "collapsed": false,
     "input": [
      "clf.predict([\n",
      "    [1,0,0],\n",
      "    [0,1,0],\n",
      "    [0,0,1]\n",
      "])"
     ],
     "language": "python",
     "metadata": {},
     "outputs": [
      {
       "metadata": {},
       "output_type": "pyout",
       "prompt_number": 13,
       "text": [
        "array([0, 0, 0])"
       ]
      }
     ],
     "prompt_number": 13
    },
    {
     "cell_type": "markdown",
     "metadata": {},
     "source": [
      "Yup, it works! And the conclusion is... everybody dies!\n",
      "\n",
      "Which makes sense, because for each of the age categories, more people died than survived in our dataset.\n",
      "\n",
      "But the model isn't equalliy certain about all three categories, which we can see if we look at the support vector weights."
     ]
    },
    {
     "cell_type": "code",
     "collapsed": false,
     "input": [
      "print(\"Constant term: {}\".format(clf.intercept_))\n",
      "print(\"Feature weights: {}\".format(clf.coef_))\n",
      "print()\n",
      "print(\"Data nicely tabulated to summarize the results:\")\n",
      "\n",
      "summary = DataFrame(X.sum(), columns=['count'])\n",
      "summary['weight'] = clf.coef_[0]\n",
      "summary"
     ],
     "language": "python",
     "metadata": {},
     "outputs": [
      {
       "output_type": "stream",
       "stream": "stdout",
       "text": [
        "Constant term: [-0.3345921]\n",
        "Feature weights: [[-0.50452368  0.18737704 -0.01744546]]\n",
        "\n",
        "Data nicely tabulated to summarize the results:\n"
       ]
      },
      {
       "html": [
        "<div style=\"max-height:1000px;max-width:1500px;overflow:auto;\">\n",
        "<table border=\"1\" class=\"dataframe\">\n",
        "  <thead>\n",
        "    <tr style=\"text-align: right;\">\n",
        "      <th></th>\n",
        "      <th>count</th>\n",
        "      <th>weight</th>\n",
        "    </tr>\n",
        "  </thead>\n",
        "  <tbody>\n",
        "    <tr>\n",
        "      <th>age_Estimated</th>\n",
        "      <td>  14</td>\n",
        "      <td>-0.504524</td>\n",
        "    </tr>\n",
        "    <tr>\n",
        "      <th>age_Known</th>\n",
        "      <td> 544</td>\n",
        "      <td> 0.187377</td>\n",
        "    </tr>\n",
        "    <tr>\n",
        "      <th>age_Unknown</th>\n",
        "      <td> 142</td>\n",
        "      <td>-0.017445</td>\n",
        "    </tr>\n",
        "  </tbody>\n",
        "</table>\n",
        "</div>"
       ],
       "metadata": {},
       "output_type": "pyout",
       "prompt_number": 14,
       "text": [
        "               count    weight\n",
        "age_Estimated     14 -0.504524\n",
        "age_Known        544  0.187377\n",
        "age_Unknown      142 -0.017445"
       ]
      }
     ],
     "prompt_number": 14
    },
    {
     "cell_type": "markdown",
     "metadata": {},
     "source": [
      "Now let's try the same thing, but with a bigger part of our feature set."
     ]
    },
    {
     "cell_type": "code",
     "collapsed": false,
     "input": [
      "sex_dummies = pd.get_dummies(people['Sex'], prefix='sex')\n",
      "class_dummies = pd.get_dummies(people['Pclass'], prefix='class')\n",
      "ac_dummies = pd.get_dummies(people['Age Class'], prefix='age')\n",
      "embark_dummies = pd.get_dummies(people['Embarked'], prefix='embark')\n",
      "X = pd.concat([sex_dummies, class_dummies, ac_dummies, embark_dummies], axis=1)\n",
      "X.head()"
     ],
     "language": "python",
     "metadata": {},
     "outputs": [
      {
       "html": [
        "<div style=\"max-height:1000px;max-width:1500px;overflow:auto;\">\n",
        "<table border=\"1\" class=\"dataframe\">\n",
        "  <thead>\n",
        "    <tr style=\"text-align: right;\">\n",
        "      <th></th>\n",
        "      <th>sex_female</th>\n",
        "      <th>sex_male</th>\n",
        "      <th>class_1</th>\n",
        "      <th>class_2</th>\n",
        "      <th>class_3</th>\n",
        "      <th>age_Estimated</th>\n",
        "      <th>age_Known</th>\n",
        "      <th>age_Unknown</th>\n",
        "      <th>embark_C</th>\n",
        "      <th>embark_Q</th>\n",
        "      <th>embark_S</th>\n",
        "    </tr>\n",
        "  </thead>\n",
        "  <tbody>\n",
        "    <tr>\n",
        "      <th>863</th>\n",
        "      <td> 1</td>\n",
        "      <td> 0</td>\n",
        "      <td> 1</td>\n",
        "      <td> 0</td>\n",
        "      <td> 0</td>\n",
        "      <td> 0</td>\n",
        "      <td> 1</td>\n",
        "      <td> 0</td>\n",
        "      <td> 0</td>\n",
        "      <td> 0</td>\n",
        "      <td> 1</td>\n",
        "    </tr>\n",
        "    <tr>\n",
        "      <th>224</th>\n",
        "      <td> 0</td>\n",
        "      <td> 1</td>\n",
        "      <td> 0</td>\n",
        "      <td> 0</td>\n",
        "      <td> 1</td>\n",
        "      <td> 0</td>\n",
        "      <td> 0</td>\n",
        "      <td> 1</td>\n",
        "      <td> 0</td>\n",
        "      <td> 0</td>\n",
        "      <td> 1</td>\n",
        "    </tr>\n",
        "    <tr>\n",
        "      <th>85 </th>\n",
        "      <td> 1</td>\n",
        "      <td> 0</td>\n",
        "      <td> 0</td>\n",
        "      <td> 1</td>\n",
        "      <td> 0</td>\n",
        "      <td> 0</td>\n",
        "      <td> 1</td>\n",
        "      <td> 0</td>\n",
        "      <td> 0</td>\n",
        "      <td> 0</td>\n",
        "      <td> 1</td>\n",
        "    </tr>\n",
        "    <tr>\n",
        "      <th>681</th>\n",
        "      <td> 1</td>\n",
        "      <td> 0</td>\n",
        "      <td> 0</td>\n",
        "      <td> 0</td>\n",
        "      <td> 1</td>\n",
        "      <td> 0</td>\n",
        "      <td> 0</td>\n",
        "      <td> 1</td>\n",
        "      <td> 0</td>\n",
        "      <td> 1</td>\n",
        "      <td> 0</td>\n",
        "    </tr>\n",
        "    <tr>\n",
        "      <th>536</th>\n",
        "      <td> 1</td>\n",
        "      <td> 0</td>\n",
        "      <td> 0</td>\n",
        "      <td> 1</td>\n",
        "      <td> 0</td>\n",
        "      <td> 0</td>\n",
        "      <td> 1</td>\n",
        "      <td> 0</td>\n",
        "      <td> 0</td>\n",
        "      <td> 0</td>\n",
        "      <td> 1</td>\n",
        "    </tr>\n",
        "  </tbody>\n",
        "</table>\n",
        "</div>"
       ],
       "metadata": {},
       "output_type": "pyout",
       "prompt_number": 15,
       "text": [
        "     sex_female  sex_male  class_1  class_2  class_3  age_Estimated  \\\n",
        "863           1         0        1        0        0              0   \n",
        "224           0         1        0        0        1              0   \n",
        "85            1         0        0        1        0              0   \n",
        "681           1         0        0        0        1              0   \n",
        "536           1         0        0        1        0              0   \n",
        "\n",
        "     age_Known  age_Unknown  embark_C  embark_Q  embark_S  \n",
        "863          1            0         0         0         1  \n",
        "224          0            1         0         0         1  \n",
        "85           1            0         0         0         1  \n",
        "681          0            1         0         1         0  \n",
        "536          1            0         0         0         1  "
       ]
      }
     ],
     "prompt_number": 15
    },
    {
     "cell_type": "code",
     "collapsed": false,
     "input": [
      "y = people['Survived']\n",
      "clf = svm.LinearSVC()\n",
      "clf.fit(X, y)"
     ],
     "language": "python",
     "metadata": {},
     "outputs": [
      {
       "metadata": {},
       "output_type": "pyout",
       "prompt_number": 23,
       "text": [
        "LinearSVC(C=1.0, class_weight=None, dual=True, fit_intercept=True,\n",
        "     intercept_scaling=1, loss='l2', max_iter=1000, multi_class='ovr',\n",
        "     penalty='l2', random_state=None, tol=0.0001, verbose=0)"
       ]
      }
     ],
     "prompt_number": 23
    },
    {
     "cell_type": "code",
     "collapsed": false,
     "input": [
      "clf.predict([1,0,1,0,0,0,1,0,1,0,0])"
     ],
     "language": "python",
     "metadata": {},
     "outputs": [
      {
       "metadata": {},
       "output_type": "pyout",
       "prompt_number": 17,
       "text": [
        "array([1])"
       ]
      }
     ],
     "prompt_number": 17
    },
    {
     "cell_type": "markdown",
     "metadata": {},
     "source": [
      "A quick sanity check. A first-class woman embarking in Cherbourgh... would have probably survived!\n",
      "\n",
      "Now let's try this model on our cross-validation set."
     ]
    },
    {
     "cell_type": "code",
     "collapsed": false,
     "input": [
      "cv_people['Age Class'] = cv_people['Age'].map(get_age_class)\n",
      "cv_sex_dummies = pd.get_dummies(cv_people['Sex'], prefix='sex')\n",
      "cv_class_dummies = pd.get_dummies(cv_people['Pclass'], prefix='class')\n",
      "cv_ac_dummies = pd.get_dummies(cv_people['Age Class'], prefix='age')\n",
      "cv_embark_dummies = pd.get_dummies(cv_people['Embarked'], prefix='embark')\n",
      "X2 = pd.concat([cv_sex_dummies, cv_class_dummies, cv_ac_dummies, cv_embark_dummies], axis=1)\n",
      "X2.head()"
     ],
     "language": "python",
     "metadata": {},
     "outputs": [
      {
       "html": [
        "<div style=\"max-height:1000px;max-width:1500px;overflow:auto;\">\n",
        "<table border=\"1\" class=\"dataframe\">\n",
        "  <thead>\n",
        "    <tr style=\"text-align: right;\">\n",
        "      <th></th>\n",
        "      <th>sex_female</th>\n",
        "      <th>sex_male</th>\n",
        "      <th>class_1</th>\n",
        "      <th>class_2</th>\n",
        "      <th>class_3</th>\n",
        "      <th>age_Estimated</th>\n",
        "      <th>age_Known</th>\n",
        "      <th>age_Unknown</th>\n",
        "      <th>embark_C</th>\n",
        "      <th>embark_Q</th>\n",
        "      <th>embark_S</th>\n",
        "    </tr>\n",
        "  </thead>\n",
        "  <tbody>\n",
        "    <tr>\n",
        "      <th>297</th>\n",
        "      <td> 0</td>\n",
        "      <td> 1</td>\n",
        "      <td> 0</td>\n",
        "      <td> 0</td>\n",
        "      <td> 1</td>\n",
        "      <td> 1</td>\n",
        "      <td> 0</td>\n",
        "      <td> 0</td>\n",
        "      <td> 1</td>\n",
        "      <td> 0</td>\n",
        "      <td> 0</td>\n",
        "    </tr>\n",
        "    <tr>\n",
        "      <th>22 </th>\n",
        "      <td> 0</td>\n",
        "      <td> 1</td>\n",
        "      <td> 0</td>\n",
        "      <td> 1</td>\n",
        "      <td> 0</td>\n",
        "      <td> 0</td>\n",
        "      <td> 1</td>\n",
        "      <td> 0</td>\n",
        "      <td> 0</td>\n",
        "      <td> 0</td>\n",
        "      <td> 1</td>\n",
        "    </tr>\n",
        "    <tr>\n",
        "      <th>421</th>\n",
        "      <td> 0</td>\n",
        "      <td> 1</td>\n",
        "      <td> 0</td>\n",
        "      <td> 0</td>\n",
        "      <td> 1</td>\n",
        "      <td> 0</td>\n",
        "      <td> 0</td>\n",
        "      <td> 1</td>\n",
        "      <td> 1</td>\n",
        "      <td> 0</td>\n",
        "      <td> 0</td>\n",
        "    </tr>\n",
        "    <tr>\n",
        "      <th>326</th>\n",
        "      <td> 1</td>\n",
        "      <td> 0</td>\n",
        "      <td> 1</td>\n",
        "      <td> 0</td>\n",
        "      <td> 0</td>\n",
        "      <td> 0</td>\n",
        "      <td> 1</td>\n",
        "      <td> 0</td>\n",
        "      <td> 1</td>\n",
        "      <td> 0</td>\n",
        "      <td> 0</td>\n",
        "    </tr>\n",
        "    <tr>\n",
        "      <th>200</th>\n",
        "      <td> 1</td>\n",
        "      <td> 0</td>\n",
        "      <td> 0</td>\n",
        "      <td> 1</td>\n",
        "      <td> 0</td>\n",
        "      <td> 0</td>\n",
        "      <td> 1</td>\n",
        "      <td> 0</td>\n",
        "      <td> 0</td>\n",
        "      <td> 0</td>\n",
        "      <td> 1</td>\n",
        "    </tr>\n",
        "  </tbody>\n",
        "</table>\n",
        "</div>"
       ],
       "metadata": {},
       "output_type": "pyout",
       "prompt_number": 18,
       "text": [
        "     sex_female  sex_male  class_1  class_2  class_3  age_Estimated  \\\n",
        "297           0         1        0        0        1              1   \n",
        "22            0         1        0        1        0              0   \n",
        "421           0         1        0        0        1              0   \n",
        "326           1         0        1        0        0              0   \n",
        "200           1         0        0        1        0              0   \n",
        "\n",
        "     age_Known  age_Unknown  embark_C  embark_Q  embark_S  \n",
        "297          0            0         1         0         0  \n",
        "22           1            0         0         0         1  \n",
        "421          0            1         1         0         0  \n",
        "326          1            0         1         0         0  \n",
        "200          1            0         0         0         1  "
       ]
      }
     ],
     "prompt_number": 18
    },
    {
     "cell_type": "code",
     "collapsed": false,
     "input": [
      "cv_predictions = pd.Series(clf.predict(X2.values), index=cv_people.index, name='Prediction')\n",
      "summary = pd.concat([X2, cv_predictions, cv_people['Survived']], axis=1)\n",
      "summary.head()"
     ],
     "language": "python",
     "metadata": {},
     "outputs": [
      {
       "html": [
        "<div style=\"max-height:1000px;max-width:1500px;overflow:auto;\">\n",
        "<table border=\"1\" class=\"dataframe\">\n",
        "  <thead>\n",
        "    <tr style=\"text-align: right;\">\n",
        "      <th></th>\n",
        "      <th>sex_female</th>\n",
        "      <th>sex_male</th>\n",
        "      <th>class_1</th>\n",
        "      <th>class_2</th>\n",
        "      <th>class_3</th>\n",
        "      <th>age_Estimated</th>\n",
        "      <th>age_Known</th>\n",
        "      <th>age_Unknown</th>\n",
        "      <th>embark_C</th>\n",
        "      <th>embark_Q</th>\n",
        "      <th>embark_S</th>\n",
        "      <th>Prediction</th>\n",
        "      <th>Survived</th>\n",
        "    </tr>\n",
        "  </thead>\n",
        "  <tbody>\n",
        "    <tr>\n",
        "      <th>297</th>\n",
        "      <td> 0</td>\n",
        "      <td> 1</td>\n",
        "      <td> 0</td>\n",
        "      <td> 0</td>\n",
        "      <td> 1</td>\n",
        "      <td> 1</td>\n",
        "      <td> 0</td>\n",
        "      <td> 0</td>\n",
        "      <td> 1</td>\n",
        "      <td> 0</td>\n",
        "      <td> 0</td>\n",
        "      <td> 0</td>\n",
        "      <td> 0</td>\n",
        "    </tr>\n",
        "    <tr>\n",
        "      <th>22 </th>\n",
        "      <td> 0</td>\n",
        "      <td> 1</td>\n",
        "      <td> 0</td>\n",
        "      <td> 1</td>\n",
        "      <td> 0</td>\n",
        "      <td> 0</td>\n",
        "      <td> 1</td>\n",
        "      <td> 0</td>\n",
        "      <td> 0</td>\n",
        "      <td> 0</td>\n",
        "      <td> 1</td>\n",
        "      <td> 0</td>\n",
        "      <td> 1</td>\n",
        "    </tr>\n",
        "    <tr>\n",
        "      <th>421</th>\n",
        "      <td> 0</td>\n",
        "      <td> 1</td>\n",
        "      <td> 0</td>\n",
        "      <td> 0</td>\n",
        "      <td> 1</td>\n",
        "      <td> 0</td>\n",
        "      <td> 0</td>\n",
        "      <td> 1</td>\n",
        "      <td> 1</td>\n",
        "      <td> 0</td>\n",
        "      <td> 0</td>\n",
        "      <td> 0</td>\n",
        "      <td> 0</td>\n",
        "    </tr>\n",
        "    <tr>\n",
        "      <th>326</th>\n",
        "      <td> 1</td>\n",
        "      <td> 0</td>\n",
        "      <td> 1</td>\n",
        "      <td> 0</td>\n",
        "      <td> 0</td>\n",
        "      <td> 0</td>\n",
        "      <td> 1</td>\n",
        "      <td> 0</td>\n",
        "      <td> 1</td>\n",
        "      <td> 0</td>\n",
        "      <td> 0</td>\n",
        "      <td> 1</td>\n",
        "      <td> 1</td>\n",
        "    </tr>\n",
        "    <tr>\n",
        "      <th>200</th>\n",
        "      <td> 1</td>\n",
        "      <td> 0</td>\n",
        "      <td> 0</td>\n",
        "      <td> 1</td>\n",
        "      <td> 0</td>\n",
        "      <td> 0</td>\n",
        "      <td> 1</td>\n",
        "      <td> 0</td>\n",
        "      <td> 0</td>\n",
        "      <td> 0</td>\n",
        "      <td> 1</td>\n",
        "      <td> 1</td>\n",
        "      <td> 0</td>\n",
        "    </tr>\n",
        "  </tbody>\n",
        "</table>\n",
        "</div>"
       ],
       "metadata": {},
       "output_type": "pyout",
       "prompt_number": 19,
       "text": [
        "     sex_female  sex_male  class_1  class_2  class_3  age_Estimated  \\\n",
        "297           0         1        0        0        1              1   \n",
        "22            0         1        0        1        0              0   \n",
        "421           0         1        0        0        1              0   \n",
        "326           1         0        1        0        0              0   \n",
        "200           1         0        0        1        0              0   \n",
        "\n",
        "     age_Known  age_Unknown  embark_C  embark_Q  embark_S  Prediction  \\\n",
        "297          0            0         1         0         0           0   \n",
        "22           1            0         0         0         1           0   \n",
        "421          0            1         1         0         0           0   \n",
        "326          1            0         1         0         0           1   \n",
        "200          1            0         0         0         1           1   \n",
        "\n",
        "     Survived  \n",
        "297         0  \n",
        "22          1  \n",
        "421         0  \n",
        "326         1  \n",
        "200         0  "
       ]
      }
     ],
     "prompt_number": 19
    },
    {
     "cell_type": "code",
     "collapsed": false,
     "input": [
      "clf.score(X2, cv_people['Survived'])"
     ],
     "language": "python",
     "metadata": {},
     "outputs": [
      {
       "metadata": {},
       "output_type": "pyout",
       "prompt_number": 20,
       "text": [
        "0.81151832460732987"
       ]
      }
     ],
     "prompt_number": 20
    },
    {
     "cell_type": "markdown",
     "metadata": {},
     "source": [
      "So... we trained the data on our training set, and it ends up being 81% accurate for our cross-validation set. That's actually pretty good accuracy, for the data we have here. (The SVM is also 79% accurate for the data we trained it on, so we're definitely not overfitting.)\n",
      "\n",
      "Now let's look at the weights that the classifier ended up giving the different supporting features."
     ]
    },
    {
     "cell_type": "code",
     "collapsed": false,
     "input": [
      "print('Constant in decision function:')\n",
      "print(clf.intercept_)\n",
      "print()\n",
      "print('Coefficients for each feature:')\n",
      "print(clf.coef_)\n",
      "print()\n",
      "print(\"Data nicely tabulated for clarity:\")\n",
      "# print('Coefficients multiplied by number of occurrences (to gauge importance):')\n",
      "\n",
      "summary = DataFrame(X.sum(), columns=['count'])\n",
      "summary['weight'] = clf.coef_[0]\n",
      "# summary['coefficient importance'] = summary['count']*summary['weight']\n",
      "summary"
     ],
     "language": "python",
     "metadata": {},
     "outputs": [
      {
       "output_type": "stream",
       "stream": "stdout",
       "text": [
        "Constant in decision function:\n",
        "[-0.01285727]\n",
        "\n",
        "Coefficients for each feature:\n",
        "[[ 0.48956489 -0.50242216  0.26343434  0.05899383 -0.33528545 -0.37092221\n",
        "   0.19913005  0.15893488  0.03040819  0.01561877 -0.18033545]]\n",
        "\n",
        "Data nicely tabulated for clarity:\n"
       ]
      },
      {
       "html": [
        "<div style=\"max-height:1000px;max-width:1500px;overflow:auto;\">\n",
        "<table border=\"1\" class=\"dataframe\">\n",
        "  <thead>\n",
        "    <tr style=\"text-align: right;\">\n",
        "      <th></th>\n",
        "      <th>count</th>\n",
        "      <th>weight</th>\n",
        "    </tr>\n",
        "  </thead>\n",
        "  <tbody>\n",
        "    <tr>\n",
        "      <th>sex_female</th>\n",
        "      <td> 254</td>\n",
        "      <td> 0.489565</td>\n",
        "    </tr>\n",
        "    <tr>\n",
        "      <th>sex_male</th>\n",
        "      <td> 446</td>\n",
        "      <td>-0.502422</td>\n",
        "    </tr>\n",
        "    <tr>\n",
        "      <th>class_1</th>\n",
        "      <td> 171</td>\n",
        "      <td> 0.263434</td>\n",
        "    </tr>\n",
        "    <tr>\n",
        "      <th>class_2</th>\n",
        "      <td> 140</td>\n",
        "      <td> 0.058994</td>\n",
        "    </tr>\n",
        "    <tr>\n",
        "      <th>class_3</th>\n",
        "      <td> 389</td>\n",
        "      <td>-0.335285</td>\n",
        "    </tr>\n",
        "    <tr>\n",
        "      <th>age_Estimated</th>\n",
        "      <td>  14</td>\n",
        "      <td>-0.370922</td>\n",
        "    </tr>\n",
        "    <tr>\n",
        "      <th>age_Known</th>\n",
        "      <td> 544</td>\n",
        "      <td> 0.199130</td>\n",
        "    </tr>\n",
        "    <tr>\n",
        "      <th>age_Unknown</th>\n",
        "      <td> 142</td>\n",
        "      <td> 0.158935</td>\n",
        "    </tr>\n",
        "    <tr>\n",
        "      <th>embark_C</th>\n",
        "      <td> 136</td>\n",
        "      <td> 0.030408</td>\n",
        "    </tr>\n",
        "    <tr>\n",
        "      <th>embark_Q</th>\n",
        "      <td>  65</td>\n",
        "      <td> 0.015619</td>\n",
        "    </tr>\n",
        "    <tr>\n",
        "      <th>embark_S</th>\n",
        "      <td> 498</td>\n",
        "      <td>-0.180335</td>\n",
        "    </tr>\n",
        "  </tbody>\n",
        "</table>\n",
        "</div>"
       ],
       "metadata": {},
       "output_type": "pyout",
       "prompt_number": 21,
       "text": [
        "               count    weight\n",
        "sex_female       254  0.489565\n",
        "sex_male         446 -0.502422\n",
        "class_1          171  0.263434\n",
        "class_2          140  0.058994\n",
        "class_3          389 -0.335285\n",
        "age_Estimated     14 -0.370922\n",
        "age_Known        544  0.199130\n",
        "age_Unknown      142  0.158935\n",
        "embark_C         136  0.030408\n",
        "embark_Q          65  0.015619\n",
        "embark_S         498 -0.180335"
       ]
      }
     ],
     "prompt_number": 21
    },
    {
     "cell_type": "markdown",
     "metadata": {},
     "source": [
      "We need to be a little careful in interpreting this data, even though it gives us a good view of how imporant the classifier considers different features to be.\n",
      "\n",
      "We can see that of the features we gave it, gender is definitely the most significant in deciding whether a passenger survives or not. But even though class seems pretty significant too... if we were to take a 1st class man of known age, embarking in Cherbourgh... the classifier's prediction would still be that he dies. The prediction would be a lot less certain than for a 3rd class man embarking at Southampton, but it would still be death.\n",
      "\n",
      "Now let's give the machine ALL the data we have, and see if it finds any other significant features..."
     ]
    }
   ],
   "metadata": {}
  }
 ]
}